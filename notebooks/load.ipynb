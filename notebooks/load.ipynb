{
 "cells": [
  {
   "cell_type": "code",
   "execution_count": 3,
   "metadata": {},
   "outputs": [
    {
     "name": "stdout",
     "output_type": "stream",
     "text": [
      "📁 Proyecto: /home/danvm/personal_works/kamin_data_challenge\n",
      "📁 Src path: /home/danvm/personal_works/kamin_data_challenge/src\n",
      "❌ Error importando load_csv: No module named 'pandas'\n"
     ]
    },
    {
     "ename": "ModuleNotFoundError",
     "evalue": "No module named 'pandas'",
     "output_type": "error",
     "traceback": [
      "\u001b[0;31m---------------------------------------------------------------------------\u001b[0m",
      "\u001b[0;31mModuleNotFoundError\u001b[0m                       Traceback (most recent call last)",
      "Cell \u001b[0;32mIn[3], line 18\u001b[0m\n\u001b[1;32m     16\u001b[0m \u001b[38;5;66;03m# Importar la función load_csv\u001b[39;00m\n\u001b[1;32m     17\u001b[0m \u001b[38;5;28;01mtry\u001b[39;00m:\n\u001b[0;32m---> 18\u001b[0m     \u001b[38;5;28;01mfrom\u001b[39;00m\u001b[38;5;250m \u001b[39m\u001b[38;5;21;01mload\u001b[39;00m\u001b[38;5;250m \u001b[39m\u001b[38;5;28;01mimport\u001b[39;00m load_csv\n\u001b[1;32m     19\u001b[0m     \u001b[38;5;28mprint\u001b[39m(\u001b[38;5;124m\"\u001b[39m\u001b[38;5;124m✅ Función load_csv importada correctamente\u001b[39m\u001b[38;5;124m\"\u001b[39m)\n\u001b[1;32m     20\u001b[0m \u001b[38;5;28;01mexcept\u001b[39;00m \u001b[38;5;167;01mImportError\u001b[39;00m \u001b[38;5;28;01mas\u001b[39;00m e:\n",
      "File \u001b[0;32m~/personal_works/kamin_data_challenge/notebooks/../src/load.py:2\u001b[0m\n\u001b[1;32m      1\u001b[0m \u001b[38;5;66;03m# Functions Load\u001b[39;00m\n\u001b[0;32m----> 2\u001b[0m \u001b[38;5;28;01mimport\u001b[39;00m\u001b[38;5;250m \u001b[39m\u001b[38;5;21;01mpandas\u001b[39;00m\u001b[38;5;250m \u001b[39m\u001b[38;5;28;01mas\u001b[39;00m\u001b[38;5;250m \u001b[39m\u001b[38;5;21;01mpd\u001b[39;00m\n\u001b[1;32m      3\u001b[0m \u001b[38;5;28;01mfrom\u001b[39;00m\u001b[38;5;250m \u001b[39m\u001b[38;5;21;01mpathlib\u001b[39;00m\u001b[38;5;250m \u001b[39m\u001b[38;5;28;01mimport\u001b[39;00m Path\n\u001b[1;32m      6\u001b[0m \u001b[38;5;28;01mdef\u001b[39;00m\u001b[38;5;250m \u001b[39m\u001b[38;5;21mload_csv\u001b[39m(file_name: \u001b[38;5;28mstr\u001b[39m, base_path: Path) \u001b[38;5;241m-\u001b[39m\u001b[38;5;241m>\u001b[39m pd\u001b[38;5;241m.\u001b[39mDataFrame:\n",
      "\u001b[0;31mModuleNotFoundError\u001b[0m: No module named 'pandas'"
     ]
    }
   ],
   "source": [
    "# Celda 1: Importar dependencias y configurar rutas\n",
    "import sys\n",
    "from pathlib import Path\n",
    "\n",
    "project_root = Path.cwd().parent if Path.cwd().name == 'notebooks' else Path.cwd()\n",
    "src_path = project_root / 'src'\n",
    "sys.path.append(str(src_path))\n",
    "\n",
    "print(f\"📁 Proyecto: {project_root}\")\n",
    "print(f\"📁 Src path: {src_path}\")\n",
    "\n",
    "# Verificar que existe el directorio src\n",
    "if not src_path.exists():\n",
    "    raise FileNotFoundError(f\"❌ No existe el directorio src: {src_path}\")\n",
    "\n",
    "# Importar la función load_csv\n",
    "try:\n",
    "    from load import load_csv\n",
    "    print(\"✅ Función load_csv importada correctamente\")\n",
    "except ImportError as e:\n",
    "    print(f\"❌ Error importando load_csv: {e}\")\n",
    "    raise\n",
    "\n",
    "# Definir la ruta local de datos\n",
    "DATA_RAW = project_root / 'data' / 'raw'\n",
    "print(f\"📂 Directorio de datos: {DATA_RAW}\")\n",
    "\n",
    "# Verificar que existe el directorio de datos\n",
    "if not DATA_RAW.exists():\n",
    "    raise FileNotFoundError(f\"❌ No existe el directorio de datos: {DATA_RAW}\")\n",
    "\n",
    "# Listar archivos disponibles\n",
    "files = list(DATA_RAW.glob('*.csv'))\n",
    "print(f\"📄 Archivos CSV encontrados: {[f.name for f in files]}\")"
   ]
  },
  {
   "cell_type": "code",
   "execution_count": null,
   "metadata": {},
   "outputs": [],
   "source": [
    "##### Load Data\n",
    "from pathlib import Path\n",
    "from google.colab import drive\n",
    "\n",
    "drive.mount('/content/drive')\n",
    "\n",
    "DRIVE_RAW = Path('/content/drive/MyDrive/Works/Kamin/raw_files')"
   ]
  },
  {
   "cell_type": "code",
   "execution_count": 1,
   "metadata": {},
   "outputs": [
    {
     "name": "stdout",
     "output_type": "stream",
     "text": [
      "📥 Starting Loading Stage …\n"
     ]
    },
    {
     "ename": "NameError",
     "evalue": "name 'load_csv' is not defined",
     "output_type": "error",
     "traceback": [
      "\u001b[0;31m---------------------------------------------------------------------------\u001b[0m",
      "\u001b[0;31mNameError\u001b[0m                                 Traceback (most recent call last)",
      "Cell \u001b[0;32mIn[1], line 4\u001b[0m\n\u001b[1;32m      1\u001b[0m \u001b[38;5;28mprint\u001b[39m(\u001b[38;5;124mf\u001b[39m\u001b[38;5;124m\"\u001b[39m\u001b[38;5;124m📥 Starting Loading Stage …\u001b[39m\u001b[38;5;124m\"\u001b[39m) \n\u001b[1;32m      3\u001b[0m   \u001b[38;5;66;03m# For events:\u001b[39;00m\n\u001b[0;32m----> 4\u001b[0m df_clients \u001b[38;5;241m=\u001b[39m \u001b[43mload_csv\u001b[49m(\u001b[38;5;124m'\u001b[39m\u001b[38;5;124mclients.csv\u001b[39m\u001b[38;5;124m'\u001b[39m, base_path\u001b[38;5;241m=\u001b[39mDRIVE_RAW)\n\u001b[1;32m      5\u001b[0m   \u001b[38;5;66;03m# For retries:\u001b[39;00m\n\u001b[1;32m      6\u001b[0m df_events  \u001b[38;5;241m=\u001b[39m load_csv(\u001b[38;5;124m'\u001b[39m\u001b[38;5;124mevents.csv\u001b[39m\u001b[38;5;124m'\u001b[39m,  base_path\u001b[38;5;241m=\u001b[39mDRIVE_RAW)\n",
      "\u001b[0;31mNameError\u001b[0m: name 'load_csv' is not defined"
     ]
    }
   ],
   "source": [
    "print(f\"📥 Starting Loading Stage …\") \n",
    "\n",
    "  # For events:\n",
    "df_clients = load_csv('clients.csv', base_path=DRIVE_RAW)\n",
    "  # For retries:\n",
    "df_events  = load_csv('events.csv',  base_path=DRIVE_RAW)\n",
    "  # For clients:\n",
    "df_retries = load_csv('retry_logs.csv', base_path=DRIVE_RAW)"
   ]
  }
 ],
 "metadata": {
  "kernelspec": {
   "display_name": "Python 3",
   "language": "python",
   "name": "python3"
  },
  "language_info": {
   "codemirror_mode": {
    "name": "ipython",
    "version": 3
   },
   "file_extension": ".py",
   "mimetype": "text/x-python",
   "name": "python",
   "nbconvert_exporter": "python",
   "pygments_lexer": "ipython3",
   "version": "3.8.10"
  }
 },
 "nbformat": 4,
 "nbformat_minor": 2
}
