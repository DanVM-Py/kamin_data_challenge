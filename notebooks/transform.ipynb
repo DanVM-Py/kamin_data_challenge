{
 "cells": [
  {
   "cell_type": "code",
   "execution_count": null,
   "metadata": {
    "vscode": {
     "languageId": "plaintext"
    }
   },
   "outputs": [],
   "source": [
    "##### Transform Data -------------------------------------------\n",
    "print(f\"🔄 Starting Transform Stage …\") "
   ]
  },
  {
   "cell_type": "code",
   "execution_count": null,
   "metadata": {
    "vscode": {
     "languageId": "plaintext"
    }
   },
   "outputs": [],
   "source": [
    "# Standarize Dates\n",
    "print(f\"🕒 Standarize Step …\") \n",
    "  # For events:\n",
    "df_clients = standardize_dates(\n",
    "    df_clients,\n",
    "    columns=['sign_up_date'],\n",
    "    df_name='clients'\n",
    ")\n",
    "  # For retries:\n",
    "df_events = standardize_dates(\n",
    "    df_events,\n",
    "    columns=['created_at', 'completed_at'],\n",
    "    df_name='events'\n",
    ")\n",
    "  # For clients:\n",
    "df_retries = standardize_dates(\n",
    "    df_retries,\n",
    "    columns=['retry_time'],\n",
    "    df_name='retries'\n",
    ")"
   ]
  },
  {
   "cell_type": "code",
   "execution_count": null,
   "metadata": {
    "vscode": {
     "languageId": "plaintext"
    }
   },
   "outputs": [],
   "source": [
    "##### Deduplicate logics -------------------------------------------\n",
    "print(f\"🗑️ Starting Deduplicate Logics …\") \n",
    "\n",
    "  # For clients:\n",
    "df_clients = deduplicate_logic(\n",
    "    df_clients,\n",
    "    subset=['client_id'],\n",
    "    sort_by='sign_up_date',\n",
    "    name='clients'\n",
    ")\n",
    "  # For events:\n",
    "df_events = deduplicate_logic(\n",
    "    df_events,\n",
    "    subset=['event_id'],\n",
    "    sort_by='created_at',\n",
    "    name='events'\n",
    ")\n",
    "  # For retries:\n",
    "df_retries = deduplicate_logic(\n",
    "    df_retries,\n",
    "    subset=['original_event_id', 'retry_attempt'],\n",
    "    sort_by='retry_time',\n",
    "    name='retries'\n",
    ")"
   ]
  },
  {
   "cell_type": "code",
   "execution_count": null,
   "metadata": {
    "vscode": {
     "languageId": "plaintext"
    }
   },
   "outputs": [],
   "source": [
    "##### Normalized Data  -------------------------------------------\n",
    "print(f\"🗑️ Normalizing Data …\") \n",
    "\n",
    "  # For clients:\n",
    "df_clients = normalize_clients_metadata(df_clients)\n",
    "  # For events:\n",
    "df_events = normalize_events_metadata(df_events)\n",
    "  # For retries:\n",
    "df_retries = normalize_retries_metadata(df_retries)"
   ]
  }
 ],
 "metadata": {
  "language_info": {
   "name": "python"
  }
 },
 "nbformat": 4,
 "nbformat_minor": 2
}
